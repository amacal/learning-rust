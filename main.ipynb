{
 "cells": [
  {
   "cell_type": "code",
   "execution_count": 3,
   "metadata": {
    "vscode": {
     "languageId": "python"
    }
   },
   "outputs": [
    {
     "data": {
      "text/plain": [
       "Adrian"
      ]
     },
     "metadata": {},
     "output_type": "display_data"
    }
   ],
   "source": [
    "print('Adrian')"
   ]
  },
  {
   "cell_type": "code",
   "execution_count": 4,
   "metadata": {
    "vscode": {
     "languageId": "python"
    }
   },
   "outputs": [
    {
     "data": {
      "text/html": [
       "<span class='ansi-red-fg'>NameError</span>: name 'test' is not defined"
      ]
     },
     "metadata": {},
     "output_type": "display_data"
    }
   ],
   "source": [
    "test"
   ]
  },
  {
   "cell_type": "code",
   "execution_count": 5,
   "metadata": {
    "vscode": {
     "languageId": "python"
    }
   },
   "outputs": [
    {
     "data": {
      "text/plain": [
       "dbutils.fs provides utilities for working with FileSystems. Most methods in\n",
       "this package can take either a DBFS path (e.g., \"/foo\" or \"dbfs:/foo\"), or\n",
       "another FileSystem URI.\n",
       "\n",
       "For more info about a method, use dbutils.fs.help(\"methodName\").\n",
       "\n",
       "In notebooks, you can also use the %fs shorthand to access DBFS. The %fs shorthand maps\n",
       "straightforwardly onto dbutils calls. For example, \"%fs head --maxBytes=10000 /file/path\"\n",
       "translates into \"dbutils.fs.head(\"/file/path\", maxBytes = 10000)\".\n",
       "    mountmount(source: String, mountPoint: String, encryptionType: String = \"\", owner: String = null, extraConfigs: Map = Map.empty[String, String]): boolean -> Mounts the given source directory into DBFS at the given mount pointmounts: Seq -> Displays information about what is mounted within DBFSrefreshMounts: boolean -> Forces all machines in this cluster to refresh their mount cache, ensuring they receive the most recent informationunmount(mountPoint: String): boolean -> Deletes a DBFS mount pointupdateMount(source: String, mountPoint: String, encryptionType: String = \"\", owner: String = null, extraConfigs: Map = Map.empty[String, String]): boolean -> Similar to mount(), but updates an existing mount point (if present) instead of creating a new onefsutilscp(from: String, to: String, recurse: boolean = false): boolean -> Copies a file or directory, possibly across FileSystemshead(file: String, maxBytes: int = 65536): String -> Returns up to the first 'maxBytes' bytes of the given file as a String encoded in UTF-8ls(dir: String): Seq -> Lists the contents of a directorymkdirs(dir: String): boolean -> Creates the given directory if it does not exist, also creating any necessary parent directoriesmv(from: String, to: String, recurse: boolean = false): boolean -> Moves a file or directory, possibly across FileSystemsput(file: String, contents: String, overwrite: boolean = false): boolean -> Writes the given String out to a file, encoded in UTF-8rm(dir: String, recurse: boolean = false): boolean -> Removes a file or directory"
      ]
     },
     "metadata": {},
     "output_type": "display_data"
    }
   ],
   "source": [
    "dbutils.fs().help()"
   ]
  },
  {
   "cell_type": "code",
   "execution_count": 6,
   "metadata": {
    "vscode": {
     "languageId": "python"
    }
   },
   "outputs": [
    {
     "data": {
      "text/plain": [
       "DATABRICKS_ROOT_VIRTUALENV_ENV=/databricks/python3\n",
       "DATABRICKS_CLUSTER_LIBS_R_ROOT_DIR=r\n",
       "DATABRICKS_RUNTIME_VERSION=12.2\n",
       "DATABRICKS_CLUSTER_LIBS_PYTHON_ROOT_DIR=python\n",
       "DATABRICKS_LIBS_NFS_ROOT_PATH=/local_disk0/.ephemeral_nfs\n",
       "DATABRICKS_LIBS_NFS_ROOT_DIR=.ephemeral_nfs\n",
       "DEFAULT_DATABRICKS_ROOT_VIRTUALENV_ENV=/databricks/python3\n",
       "DATABRICKS_CLUSTER_LIBS_ROOT_DIR=cluster_libraries"
      ]
     },
     "metadata": {},
     "output_type": "display_data"
    }
   ],
   "source": [
    "%%sh\n",
    "\n",
    "env | grep DATABRICKS"
   ]
  },
  {
   "cell_type": "code",
   "execution_count": 7,
   "metadata": {
    "vscode": {
     "languageId": "python"
    }
   },
   "outputs": [
    {
     "data": {
      "text/plain": [
       "Found 234954223 prime numbers up to 5000000000."
      ]
     },
     "metadata": {},
     "output_type": "display_data"
    }
   ],
   "source": [
    "import numpy as np\n",
    "\n",
    "def find_primes(limit):\n",
    "    sieve = np.ones(limit+1, dtype=bool)\n",
    "    sieve[0:2] = False\n",
    "\n",
    "    for i in range(2, int(np.sqrt(limit)) + 1):\n",
    "        if sieve[i]:\n",
    "            sieve[i*i::i] = False\n",
    "\n",
    "    primes = np.nonzero(sieve)[0]\n",
    "    return primes\n",
    "\n",
    "# Calculate the first 5M prime numbers\n",
    "limit = 5_000_000_000\n",
    "primes = find_primes(limit)\n",
    "print(f\"Found {len(primes)} prime numbers up to {limit}.\")"
   ]
  }
 ],
 "metadata": {
  "kernelspec": {
   "display_name": "Learning Rust",
   "language": "python",
   "name": "learning-rust"
  },
  "language_info": {
   "codemirror_mode": null,
   "file_extension": ".py",
   "mimetype": "text/x-python",
   "name": "Python",
   "nbconvert_exporter": null,
   "pygments_lexer": null,
   "version": "3.9.5"
  },
  "orig_nbformat": 4
 },
 "nbformat": 4,
 "nbformat_minor": 2
}
