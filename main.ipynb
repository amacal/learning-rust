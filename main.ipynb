{
 "cells": [
  {
   "cell_type": "code",
   "execution_count": 4,
   "metadata": {
    "vscode": {
     "languageId": "python"
    }
   },
   "outputs": [
    {
     "data": {
      "text/plain": [
       "Adrian"
      ]
     },
     "execution_count": 4,
     "metadata": {},
     "output_type": "execute_result"
    }
   ],
   "source": [
    "print('Adrian')"
   ]
  },
  {
   "cell_type": "code",
   "execution_count": 10,
   "metadata": {
    "vscode": {
     "languageId": "python"
    }
   },
   "outputs": [
    {
     "data": {
      "text/plain": [
       "DATABRICKS_ROOT_VIRTUALENV_ENV=/databricks/python3\n",
       "DATABRICKS_CLUSTER_LIBS_R_ROOT_DIR=r\n",
       "DATABRICKS_RUNTIME_VERSION=12.2\n",
       "DATABRICKS_CLUSTER_LIBS_PYTHON_ROOT_DIR=python\n",
       "DATABRICKS_LIBS_NFS_ROOT_PATH=/local_disk0/.ephemeral_nfs\n",
       "DATABRICKS_LIBS_NFS_ROOT_DIR=.ephemeral_nfs\n",
       "DEFAULT_DATABRICKS_ROOT_VIRTUALENV_ENV=/databricks/python3\n",
       "DATABRICKS_CLUSTER_LIBS_ROOT_DIR=cluster_libraries"
      ]
     },
     "execution_count": 10,
     "metadata": {},
     "output_type": "execute_result"
    }
   ],
   "source": [
    "%%sh\n",
    "\n",
    "env | grep DATABRICKS"
   ]
  },
  {
   "cell_type": "code",
   "execution_count": 5,
   "metadata": {
    "vscode": {
     "languageId": "python"
    }
   },
   "outputs": [
    {
     "data": {
      "text/plain": [
       "DatabricksCommandStatusResponse { id: \"e36aee0d-3896-411f-99fe-f1575516fdb1\", status: \"Running\", results: None }"
      ]
     },
     "execution_count": 5,
     "metadata": {},
     "output_type": "execute_result"
    }
   ],
   "source": [
    "import numpy as np\n",
    "\n",
    "def find_primes(limit):\n",
    "    sieve = np.ones(limit+1, dtype=bool)\n",
    "    sieve[0:2] = False\n",
    "\n",
    "    for i in range(2, int(np.sqrt(limit)) + 1):\n",
    "        if sieve[i]:\n",
    "            sieve[i*i::i] = False\n",
    "\n",
    "    primes = np.nonzero(sieve)[0]\n",
    "    return primes\n",
    "\n",
    "# Calculate the first 5M prime numbers\n",
    "limit = 500_000_000\n",
    "primes = find_primes(limit)\n",
    "print(f\"Found {len(primes)} prime numbers up to {limit}.\")"
   ]
  }
 ],
 "metadata": {
  "kernelspec": {
   "display_name": "Learning Rust",
   "language": "python",
   "name": "learning-rust"
  },
  "language_info": {
   "codemirror_mode": null,
   "file_extension": ".py",
   "mimetype": "text/x-python",
   "name": "Python",
   "nbconvert_exporter": null,
   "pygments_lexer": null,
   "version": "3.9.5"
  },
  "orig_nbformat": 4
 },
 "nbformat": 4,
 "nbformat_minor": 2
}
