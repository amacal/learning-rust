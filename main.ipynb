{
 "cells": [
  {
   "cell_type": "code",
   "execution_count": 18,
   "metadata": {
    "vscode": {
     "languageId": "python"
    }
   },
   "outputs": [],
   "source": [
    "print('Adrian')"
   ]
  },
  {
   "cell_type": "code",
   "execution_count": null,
   "metadata": {
    "vscode": {
     "languageId": "python"
    }
   },
   "outputs": [],
   "source": [
    "test"
   ]
  },
  {
   "cell_type": "code",
   "execution_count": null,
   "metadata": {
    "vscode": {
     "languageId": "python"
    }
   },
   "outputs": [],
   "source": [
    "dbutils.fs().help()"
   ]
  },
  {
   "cell_type": "code",
   "execution_count": null,
   "metadata": {
    "vscode": {
     "languageId": "python"
    }
   },
   "outputs": [],
   "source": [
    "%%sh\n",
    "\n",
    "env | grep DATABRICKS"
   ]
  },
  {
   "cell_type": "code",
   "execution_count": null,
   "metadata": {
    "vscode": {
     "languageId": "python"
    }
   },
   "outputs": [],
   "source": [
    "import numpy as np\n",
    "\n",
    "def find_primes(limit):\n",
    "    sieve = np.ones(limit+1, dtype=bool)\n",
    "    sieve[0:2] = False\n",
    "\n",
    "    for i in range(2, int(np.sqrt(limit)) + 1):\n",
    "        if sieve[i]:\n",
    "            sieve[i*i::i] = False\n",
    "\n",
    "    primes = np.nonzero(sieve)[0]\n",
    "    return primes\n",
    "\n",
    "# Calculate the first 5M prime numbers\n",
    "limit = 5_000_000_000\n",
    "primes = find_primes(limit)\n",
    "print(f\"Found {len(primes)} prime numbers up to {limit}.\")"
   ]
  }
 ],
 "metadata": {
  "kernelspec": {
   "display_name": "Learning Rust",
   "language": "python",
   "name": "learning-rust"
  },
  "language_info": {
   "codemirror_mode": null,
   "file_extension": ".py",
   "mimetype": "text/x-python",
   "name": "Python",
   "nbconvert_exporter": null,
   "pygments_lexer": null,
   "version": "3.9.5"
  },
  "orig_nbformat": 4
 },
 "nbformat": 4,
 "nbformat_minor": 2
}
